{
 "cells": [
  {
   "cell_type": "code",
   "execution_count": 2,
   "metadata": {},
   "outputs": [],
   "source": [
    "import numpy as np\n",
    "import pandas as pd\n",
    "\n",
    "import math\n",
    "\n",
    "import matplotlib.pyplot as plt\n",
    "plt.style.use('fivethirtyeight')"
   ]
  },
  {
   "cell_type": "markdown",
   "metadata": {},
   "source": [
    "# Distributions review"
   ]
  },
  {
   "cell_type": "markdown",
   "metadata": {},
   "source": [
    "## Discrete distributions"
   ]
  },
  {
   "cell_type": "markdown",
   "metadata": {},
   "source": [
    "### Bernoulli"
   ]
  },
  {
   "cell_type": "markdown",
   "metadata": {},
   "source": [
    "* Distribution:\n",
    "\n",
    "    $ \\large X \\sim B(p)$\n",
    "\n",
    "<br>\n",
    "\n",
    "* PMF\n",
    "\n",
    "    $ \\large P(X=x|p) = p^x  (1 - p)^{1 - x}$\n",
    "\n",
    "    where $p$ is the probability of success.\n",
    "\n",
    "<br>\n",
    "\n",
    "* Expected value:\n",
    "\n",
    "    $\\large E[X] = p$\n",
    "\n",
    "<br>\n",
    "\n",
    "* Variance:\n",
    "\n",
    "    $\\large Var = p(1 - p)$"
   ]
  },
  {
   "cell_type": "code",
   "execution_count": 13,
   "metadata": {},
   "outputs": [],
   "source": [
    "# Fair coin example\n",
    "def get_bernoulli(x, p):\n",
    "    return p**x * (1 - p)**(1 - x)"
   ]
  },
  {
   "cell_type": "code",
   "execution_count": 14,
   "metadata": {},
   "outputs": [
    {
     "data": {
      "text/plain": [
       "(0.5, 0.5)"
      ]
     },
     "execution_count": 14,
     "metadata": {},
     "output_type": "execute_result"
    }
   ],
   "source": [
    "get_bernoulli(1, .5), get_bernoulli(0, .5)"
   ]
  },
  {
   "cell_type": "code",
   "execution_count": 17,
   "metadata": {},
   "outputs": [
    {
     "data": {
      "text/plain": [
       "(0.75, 0.75)"
      ]
     },
     "execution_count": 17,
     "metadata": {},
     "output_type": "execute_result"
    }
   ],
   "source": [
    "# Unfair coin example\n",
    "get_bernoulli(1, .75), get_bernoulli(0, .25)"
   ]
  },
  {
   "cell_type": "markdown",
   "metadata": {},
   "source": [
    "### Binomial"
   ]
  },
  {
   "cell_type": "markdown",
   "metadata": {},
   "source": [
    "* Distribution:\n",
    "\n",
    "    $ \\large X \\sim Bin(n, p)$\n",
    "\n",
    "<br>\n",
    "\n",
    "* PMF\n",
    "\n",
    "    $ \\large P(X=x|p) = {n \\choose x} p^x  (1 - p)^{n - x}$\n",
    "\n",
    "    where:\n",
    "    * $p$ is the probability of success in a single trial\n",
    "    * $n$ is number of trials\n",
    "    * $x$ is number of successes in $n$ independent trials.\n",
    "\n",
    "<br>\n",
    "\n",
    "* Expected value:\n",
    "\n",
    "    $\\large E[X] = np$\n",
    "\n",
    "<br>\n",
    "\n",
    "* Variance:\n",
    "\n",
    "    $\\large Var = np(1 - p)$"
   ]
  },
  {
   "cell_type": "code",
   "execution_count": 25,
   "metadata": {},
   "outputs": [],
   "source": [
    "def get_binom(x, n, p):\n",
    "    return ((math.factorial(n) / (math.factorial(x) * math.factorial(n - x)))) * p**x * (1 - p)**(n - x)"
   ]
  },
  {
   "cell_type": "code",
   "execution_count": 30,
   "metadata": {},
   "outputs": [
    {
     "data": {
      "text/plain": [
       "0.5"
      ]
     },
     "execution_count": 30,
     "metadata": {},
     "output_type": "execute_result"
    }
   ],
   "source": [
    "# Fair coin example\n",
    "get_binom(1, 2, .5)"
   ]
  },
  {
   "cell_type": "code",
   "execution_count": 31,
   "metadata": {},
   "outputs": [
    {
     "data": {
      "text/plain": [
       "0.375"
      ]
     },
     "execution_count": 31,
     "metadata": {},
     "output_type": "execute_result"
    }
   ],
   "source": [
    "get_binom(2, 4, .5)"
   ]
  },
  {
   "cell_type": "markdown",
   "metadata": {},
   "source": [
    "## Continuous distributions"
   ]
  },
  {
   "cell_type": "markdown",
   "metadata": {},
   "source": [
    "Two general rules for probability density functions:\n",
    "\n",
    "* $ \\large  \\int_{-\\infty}^{\\infty}f(x)dx = 1$\n",
    "\n",
    "<br>\n",
    "\n",
    "* $ \\large f(x) \\geq 0$\n",
    "\n",
    "In general, expected value for continuous distribution is:\n",
    "\n",
    "* $ \\large \\int_{-\\infty}^{\\infty}xf(x)dx $"
   ]
  },
  {
   "cell_type": "markdown",
   "metadata": {},
   "source": [
    "### Exponential"
   ]
  },
  {
   "cell_type": "markdown",
   "metadata": {},
   "source": [
    "* Distribution:\n",
    "\n",
    "    $ \\large X \\sim Exp(\\lambda)$\n",
    "\n",
    "<br>\n",
    "\n",
    "* PMF\n",
    "\n",
    "    $ \\large f(x|\\lambda) = \\lambda e^{-\\lambda x}$\n",
    "    \n",
    "    for $x \\geq 0$\n",
    "\n",
    "<br>\n",
    "\n",
    "* Expected value:\n",
    "\n",
    "    $\\large E[X] = \\frac{1}{\\lambda}$\n",
    "\n",
    "<br>\n",
    "\n",
    "* Variance:\n",
    "\n",
    "    $\\large Var = \\frac{1}{\\lambda^2}$"
   ]
  },
  {
   "cell_type": "code",
   "execution_count": 34,
   "metadata": {},
   "outputs": [
    {
     "data": {
      "text/plain": [
       "0.2"
      ]
     },
     "execution_count": 34,
     "metadata": {},
     "output_type": "execute_result"
    }
   ],
   "source": [
    "# Find E(X) for lambda = 5\n",
    "1/5"
   ]
  },
  {
   "cell_type": "code",
   "execution_count": 51,
   "metadata": {},
   "outputs": [],
   "source": [
    "# if X ~ Exp(3), what is P(X > 1/3)?\n",
    "def eval_exp(x1, x2, lambda_):\n",
    "    return -np.e**(-lambda_ * x2) - -np.e**(-lambda_ * x1)"
   ]
  },
  {
   "cell_type": "code",
   "execution_count": 53,
   "metadata": {},
   "outputs": [
    {
     "data": {
      "text/plain": [
       "0.36787944117144233"
      ]
     },
     "execution_count": 53,
     "metadata": {},
     "output_type": "execute_result"
    }
   ],
   "source": [
    "1 - eval_exp(0, 1/3, 3)"
   ]
  },
  {
   "cell_type": "markdown",
   "metadata": {},
   "source": [
    "### Uniform"
   ]
  },
  {
   "cell_type": "markdown",
   "metadata": {},
   "source": [
    "* Distribution:\n",
    "\n",
    "    $ \\large X \\sim U(\\theta_1, \\theta_2)$\n",
    "\n",
    "<br>\n",
    "\n",
    "* PMF\n",
    "\n",
    "    $ \\large f(x|\\theta_1, \\theta_2) = \\frac{1}{\\theta_2 - \\theta_1}$\n",
    "    \n",
    "    for $x \\in {\\theta_1 \\leq x \\leq \\theta_2}$\n",
    "\n",
    "<br>\n",
    "\n",
    "* Expected value:\n",
    "\n",
    "    $\\large E[X] = \\frac{1}{2} (\\theta_1 + \\theta_2)$\n",
    "\n",
    "<br>\n",
    "\n",
    "* Variance:\n",
    "\n",
    "    $\\large Var = \\frac{1}{12} (\\theta_2 - \\theta_1)^2$"
   ]
  },
  {
   "cell_type": "code",
   "execution_count": 54,
   "metadata": {},
   "outputs": [
    {
     "data": {
      "text/plain": [
       "13.0"
      ]
     },
     "execution_count": 54,
     "metadata": {},
     "output_type": "execute_result"
    }
   ],
   "source": [
    "# Suppose X∼Uniform(0,2) and Y∼Uniform(8,10). What is the value of E(4X+Y)?\n",
    "4* .5 * 2 + 18 * .5"
   ]
  },
  {
   "cell_type": "markdown",
   "metadata": {},
   "source": [
    "### Normal"
   ]
  },
  {
   "cell_type": "markdown",
   "metadata": {},
   "source": [
    "* Distribution:\n",
    "\n",
    "    $ \\large X \\sim N(\\mu, \\sigma^2)$\n",
    "\n",
    "<br>\n",
    "\n",
    "* PMF\n",
    "\n",
    "    $ \\large f(x|\\mu, \\sigma^2) = \\frac{1}{2 \\pi \\sigma^2}e^{-\\frac{1}{2 \\sigma^2} (x - \\mu)^2}$\n",
    "    \n",
    "    for $x \\in {\\theta_1 \\leq x \\leq \\theta_2}$\n",
    "\n",
    "<br>\n",
    "\n",
    "* Expected value:\n",
    "\n",
    "    $\\large E[X] = \\mu$\n",
    "\n",
    "<br>\n",
    "\n",
    "* Variance:\n",
    "\n",
    "    $\\large Var = \\sigma^2$"
   ]
  },
  {
   "cell_type": "code",
   "execution_count": 35,
   "metadata": {},
   "outputs": [],
   "source": [
    "def get_norm(x, m, sigma):\n",
    "    return (1 / (2 * np.pi * sigma**2)) * np.e**(-(1 / sigma**2) * (x - m)**2)"
   ]
  },
  {
   "cell_type": "code",
   "execution_count": 48,
   "metadata": {},
   "outputs": [],
   "source": [
    "sigmas = np.arange(.1, 100)\n",
    "p = []\n",
    "for sigma in sigmas:\n",
    "    p.append(get_norm(0, 3, sigma))"
   ]
  },
  {
   "cell_type": "code",
   "execution_count": 49,
   "metadata": {
    "scrolled": true
   },
   "outputs": [
    {
     "data": {
      "image/png": "[encoded data removed]",
      "text/plain": [
       "<Figure size 864x288 with 1 Axes>"
      ]
     },
     "metadata": {},
     "output_type": "display_data"
    }
   ],
   "source": [
    "plt.figure(figsize = (12, 4))\n",
    "plt.plot(sigmas, p, alpha = .8)\n",
    "plt.xlabel('$\\sigma$')\n",
    "plt.ylabel('$p$')\n",
    "plt.show()"
   ]
  },
  {
   "cell_type": "code",
   "execution_count": 55,
   "metadata": {},
   "outputs": [
    {
     "data": {
      "text/plain": [
       "15"
      ]
     },
     "execution_count": 55,
     "metadata": {},
     "output_type": "execute_result"
    }
   ],
   "source": [
    "sum(range(1,6))"
   ]
  },
  {
   "cell_type": "code",
   "execution_count": 56,
   "metadata": {},
   "outputs": [
    {
     "data": {
      "text/plain": [
       "77.15999999999985"
      ]
     },
     "execution_count": 56,
     "metadata": {},
     "output_type": "execute_result"
    }
   ],
   "source": [
    "15000 - 14922.84"
   ]
  },
  {
   "cell_type": "markdown",
   "metadata": {},
   "source": [
    "## Fisher information for Bernoullli"
   ]
  },
  {
   "cell_type": "code",
   "execution_count": 76,
   "metadata": {},
   "outputs": [],
   "source": [
    "x = np.arange(0.01, 1, .01)\n",
    "y = 1 / (x * (1 - x))"
   ]
  },
  {
   "cell_type": "code",
   "execution_count": 78,
   "metadata": {},
   "outputs": [
    {
     "data": {
      "text/plain": [
       "[<matplotlib.lines.Line2D at 0x1ddfdec0400>]"
      ]
     },
     "execution_count": 78,
     "metadata": {},
     "output_type": "execute_result"
    },
    {
     "data": {
      "image/png": "[encoded data removed]",
      "text/plain": [
       "<Figure size 432x288 with 1 Axes>"
      ]
     },
     "metadata": {},
     "output_type": "display_data"
    }
   ],
   "source": [
    "plt.plot(x, y)"
   ]
  },
  {
   "cell_type": "code",
   "execution_count": 79,
   "metadata": {},
   "outputs": [
    {
     "data": {
      "text/plain": [
       "0.03333333333333333"
      ]
     },
     "execution_count": 79,
     "metadata": {},
     "output_type": "execute_result"
    }
   ],
   "source": [
    "1 / (300 / 10)"
   ]
  },
  {
   "cell_type": "code",
   "execution_count": 80,
   "metadata": {},
   "outputs": [
    {
     "data": {
      "text/plain": [
       "30.000030000029998"
      ]
     },
     "execution_count": 80,
     "metadata": {},
     "output_type": "execute_result"
    }
   ],
   "source": [
    "1 / 0.0333333\n"
   ]
  },
  {
   "cell_type": "code",
   "execution_count": null,
   "metadata": {},
   "outputs": [],
   "source": []
  }
 ],
 "metadata": {
  "kernelspec": {
   "display_name": "Python 3",
   "language": "python",
   "name": "python3"
  },
  "language_info": {
   "codemirror_mode": {
    "name": "ipython",
    "version": 3
   },
   "file_extension": ".py",
   "mimetype": "text/x-python",
   "name": "python",
   "nbconvert_exporter": "python",
   "pygments_lexer": "ipython3",
   "version": "3.6.5"
  }
 },
 "nbformat": 4,
 "nbformat_minor": 2
}
