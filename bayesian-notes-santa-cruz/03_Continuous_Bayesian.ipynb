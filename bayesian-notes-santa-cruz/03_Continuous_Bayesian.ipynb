{
 "cells": [
  {
   "cell_type": "code",
   "execution_count": 4,
   "metadata": {},
   "outputs": [],
   "source": [
    "import numpy as np\n",
    "import pandas as pd\n",
    "\n",
    "import math\n",
    "from scipy import stats as stats\n",
    "\n",
    "import matplotlib.pyplot as plt\n",
    "plt.style.use('fivethirtyeight')"
   ]
  },
  {
   "cell_type": "markdown",
   "metadata": {},
   "source": [
    "# Continuous version of Bayesian theorem"
   ]
  },
  {
   "cell_type": "markdown",
   "metadata": {},
   "source": [
    "\n",
    "\n",
    "$$\\large f(\\theta|y) = \\frac{f(y|\\theta)f(\\theta)}{\\int_{-\\infty}^{\\infty} f(y|\\theta)f(\\theta)d\\theta}$$\n",
    "\n",
    "This can be read as:\n",
    "\n",
    "* ***likelihood * prior / normalizing constant***\n",
    "\n",
    "\n",
    "Because the integral can be hard to compute, we also say that this expression is proportional to\n",
    "\n",
    "* ***likelihood * prior***"
   ]
  },
  {
   "cell_type": "code",
   "execution_count": 5,
   "metadata": {},
   "outputs": [
    {
     "data": {
      "text/plain": [
       "-1.961394815429482"
      ]
     },
     "execution_count": 5,
     "metadata": {},
     "output_type": "execute_result"
    }
   ],
   "source": [
    "np.quantile(np.random.normal(0, 1, 1000000), .025)"
   ]
  },
  {
   "cell_type": "markdown",
   "metadata": {},
   "source": [
    "## Exponential and Gamma "
   ]
  },
  {
   "cell_type": "markdown",
   "metadata": {},
   "source": [
    "Recall that we used the conjugate gamma prior for λ, the arrival rate in busses per minute. Suppose our prior belief about this rate is that it should have mean 1/20 arrivals per minute with standard deviation 1/5. Then the prior is Gamma(a,b) with a=1/16.\n",
    "\n",
    "Find b."
   ]
  },
  {
   "cell_type": "code",
   "execution_count": 6,
   "metadata": {},
   "outputs": [],
   "source": [
    "# sqrt(a) / b = 1/5\n",
    "# a / b = 1/20"
   ]
  },
  {
   "cell_type": "code",
   "execution_count": 7,
   "metadata": {},
   "outputs": [
    {
     "data": {
      "text/plain": [
       "(1.25, 1.25)"
      ]
     },
     "execution_count": 7,
     "metadata": {},
     "output_type": "execute_result"
    }
   ],
   "source": [
    ".0625 / 0.05, .25 / .2"
   ]
  },
  {
   "cell_type": "markdown",
   "metadata": {},
   "source": [
    "Suppose that we wish to use a prior with the same mean (1/20), but with effective sample size of one arrival. Then the prior for λ is Gamma(1,20).\n",
    "\n",
    "In addition to the original Y1=12, we observe the waiting times for four additional busses: Y2=15, Y3=8, Y4=13.5, Y5=25.\n",
    "\n",
    "Recall that with multiple (independent) observations, the posterior for λ is Gamma(α,β) where α=a+n and β=b+∑yi.\n",
    "\n",
    "**What is the posterior mean for λ? Round your answer to two decimal places.**"
   ]
  },
  {
   "cell_type": "code",
   "execution_count": 8,
   "metadata": {},
   "outputs": [],
   "source": [
    "ys = [20, 12, 15, 8, 13.5, 25]"
   ]
  },
  {
   "cell_type": "code",
   "execution_count": 9,
   "metadata": {},
   "outputs": [
    {
     "data": {
      "text/plain": [
       "0.06417112299465241"
      ]
     },
     "execution_count": 9,
     "metadata": {},
     "output_type": "execute_result"
    }
   ],
   "source": [
    "len(ys) / sum(ys)"
   ]
  },
  {
   "cell_type": "markdown",
   "metadata": {},
   "source": [
    "## Normal"
   ]
  },
  {
   "cell_type": "markdown",
   "metadata": {},
   "source": [
    "### Known variance\n",
    "\n",
    "___\n",
    "\n",
    "Let's imagine a case where we know variance of a normally distributed variable, but the mean is unknown:\n",
    "\n",
    "\n",
    "$$\\Large X \\sim \\mathcal{N}(\\mu, \\sigma_{o}^2)$$\n",
    "\n",
    "\n",
    "A conjugate prior for the mean will also be **normal**:\n",
    "\n",
    "\n",
    "$$\\Large \\mu \\sim \\mathcal{N}(m_o, s_{o}^2)$$\n",
    "\n",
    "\n",
    "Then the posterior will be:\n",
    "\n",
    "\n",
    "$$\\Large \\mu |X \\sim \\mathcal{N}(\\frac{\\frac{n \\bar{X}}{\\sigma_o^2} + \\frac{m_0}{s_o^2}}{\\frac{n}{\\sigma_o^2} + \\frac{1}{s_o^2}}, \\frac{1}{\\frac{n}{\\sigma_o^2} + \\frac{1}{s_o^2}})$$\n",
    "\n",
    "\n",
    "Effective sample size is:\n",
    "\n",
    "\n",
    "$$\\Large ESS = \\frac{\\sigma_o^2}{s_o^2}$$\n",
    "\n",
    "\n",
    "The **more variablility** in the prior, the **less information** is in it and vice versa."
   ]
  },
  {
   "cell_type": "code",
   "execution_count": 15,
   "metadata": {},
   "outputs": [],
   "source": [
    "def get_normal_posterior_mean_params(x, sigma2, m, s2):\n",
    "    \n",
    "    n = len(x)\n",
    "    \n",
    "    post_mean_mean = ((n * np.mean(x) / sigma2) + (m / s2)) / ((n / sigma2) + (1 / s2))\n",
    "    post_mean_var  = 1 / ((n / sigma2) + (1 / s2))\n",
    "    \n",
    "    return post_mean_mean, post_mean_var"
   ]
  },
  {
   "cell_type": "code",
   "execution_count": 12,
   "metadata": {},
   "outputs": [],
   "source": [
    "def get_effective_sample_size(sigma2, s2, sigma_known = True):\n",
    "    return sigma2 / s2"
   ]
  },
  {
   "cell_type": "markdown",
   "metadata": {},
   "source": [
    "### Unknown variance\n",
    "\n",
    "___\n",
    "\n",
    "Is both - **mean** and **variance** - are **unknown**, we can specify priors in a hierarchcal fashion.\n",
    "\n",
    "We have:\n",
    "\n",
    "\n",
    "\n",
    "$$\\Large X \\sim \\mathcal{N}(\\mu, \\sigma^2)$$\n",
    "\n",
    "\n",
    "with two unknown parameters.\n",
    "\n",
    "\n",
    "\n",
    "We can specify a prior for $\\mu$ as:\n",
    "\n",
    "\n",
    "\n",
    "$$\\Large \\mu | \\sigma^2 \\sim \\mathcal{N}(m, \\frac{\\sigma^2}{w})$$\n",
    "\n",
    "where \n",
    "\n",
    "$$w = \\frac{\\sigma^2}{\\sigma^2_{\\mu}}$$\n",
    "\n",
    "is the **effective sample size** of the prior.\n",
    "\n",
    "\n",
    "A prior for $\\sigma^2$ will be:\n",
    "\n",
    "\n",
    "$$\\Large \\sigma^2 \\sim \\Gamma^{-1}(\\alpha, \\beta)$$\n",
    "\n",
    "\n",
    "Then, the posterior for $\\sigma^2$ will be:\n",
    "\n",
    "\n",
    "$$\\Large \\sigma^2 | X \\sim \\Gamma^{-1}(\\alpha + \\frac{n}{2}, \\beta + \\frac{1}{2} \\sum_{i=1}^n (x_i - \\bar{x})^2) + \\frac{nw}{2(n + w)}(\\bar{x} - m)^2$$\n",
    "\n",
    "\n",
    "and the posterior for $\\mu$ will be:\n",
    "\n",
    "\n",
    "$$\\Large \\mu | \\sigma^2, X \\sim \\mathcal{N}(\\frac{n \\bar{x} + wm}{n+w}, \\frac{\\sigma^2}{n + w})$$\n",
    "\n",
    "\n",
    "If we only care about $\\mu$, then the marginal posterior will follow a $t$ distribution:\n",
    "\n",
    "\n",
    "$$\\Large \\mu | X \\sim t$$"
   ]
  },
  {
   "cell_type": "markdown",
   "metadata": {},
   "source": [
    "**Exercise 1**\n",
    "\n",
    "Suppose you are trying to calibrate a thermometer by testing the temperature it reads when water begins to boil. Because of natural variation, you take nnn independent measurements (experiments) to estimate $\\theta$, the mean temperature reading for this thermometer at the boiling point. Assume a normal likelihood for these data, with mean $\\theta$ and known variance $\\sigma^2 = 0.25$ (which corresponds to a standard deviation of 0.5 degrees Celsius).\n",
    "\n",
    "Suppose your prior for $\\theta$ is (conveniently) the conjugate normal. You know that at sea level, water should boil at 100 degrees Celsius, so you set the prior mean at $m_0 = 100$.\n"
   ]
  },
  {
   "cell_type": "markdown",
   "metadata": {},
   "source": [
    "You collect the following $n=5$ measurements: (94.6, 95.4, 96.2, 94.9, 95.9).\n",
    "\n",
    "What is the posterior distribution for $\\theta$?"
   ]
  },
  {
   "cell_type": "code",
   "execution_count": 14,
   "metadata": {},
   "outputs": [],
   "source": [
    "measurements = [94.6, 95.4, 96.2, 94.9, 95.9]"
   ]
  },
  {
   "cell_type": "code",
   "execution_count": 17,
   "metadata": {},
   "outputs": [
    {
     "data": {
      "text/plain": [
       "(96.16666666666667, 0.041666666666666664)"
      ]
     },
     "execution_count": 17,
     "metadata": {},
     "output_type": "execute_result"
    }
   ],
   "source": [
    "get_normal_posterior_mean_params(measurements, .25, 100, .25)"
   ]
  },
  {
   "cell_type": "code",
   "execution_count": 19,
   "metadata": {},
   "outputs": [
    {
     "data": {
      "text/plain": [
       "(95.45679012345678, 0.04938271604938271)"
      ]
     },
     "execution_count": 19,
     "metadata": {},
     "output_type": "execute_result"
    }
   ],
   "source": [
    "get_normal_posterior_mean_params(measurements, .25, 100, 1/.25)"
   ]
  },
  {
   "cell_type": "code",
   "execution_count": null,
   "metadata": {},
   "outputs": [],
   "source": []
  }
 ],
 "metadata": {
  "kernelspec": {
   "display_name": "Python 3",
   "language": "python",
   "name": "python3"
  },
  "language_info": {
   "codemirror_mode": {
    "name": "ipython",
    "version": 3
   },
   "file_extension": ".py",
   "mimetype": "text/x-python",
   "name": "python",
   "nbconvert_exporter": "python",
   "pygments_lexer": "ipython3",
   "version": "3.6.5"
  }
 },
 "nbformat": 4,
 "nbformat_minor": 2
}
