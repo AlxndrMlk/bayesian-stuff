{
 "cells": [
  {
   "cell_type": "code",
   "execution_count": 1,
   "metadata": {},
   "outputs": [],
   "source": [
    "import numpy as np\n",
    "import pandas as pd\n",
    "\n",
    "import math\n",
    "from scipy import stats as stats\n",
    "\n",
    "import matplotlib.pyplot as plt\n",
    "plt.style.use('fivethirtyeight')"
   ]
  },
  {
   "cell_type": "markdown",
   "metadata": {},
   "source": [
    "## Jeffreys prior"
   ]
  },
  {
   "cell_type": "markdown",
   "metadata": {},
   "source": [
    "Jeffreys prior is equal to\n",
    "\n",
    "\n",
    "$$\\Large f(\\theta) \\propto \\sqrt{I(\\theta)} $$\n",
    "\n",
    "where $I(\\theta)$ is **Fischer information**.\n",
    "\n",
    "\n",
    "___\n",
    "\n",
    "* ### Normal distribution \n",
    "\n",
    "\n",
    "For Normal Jeffreys prior will be:\n",
    "\n",
    "\n",
    "* Mean:\n",
    "\n",
    "\n",
    "$$\\large f(\\mu) \\propto 1$$\n",
    "\n",
    "\n",
    "* Variance:\n",
    "\n",
    "\n",
    "$$\\large f(\\sigma^2) \\propto \\frac{1}{\\sigma^2}$$\n",
    "\n",
    "\n",
    "___\n",
    "\n",
    "* ### Binomial / Bernoulli\n",
    "\n",
    "\n",
    "For Binomial / Bernoulli Jeffreys prior will be:\n",
    "\n",
    "\n",
    "$$\\large Beta(\\frac{1}{2}, \\frac{1}{2})$$\n",
    "\n",
    "\n",
    "\n",
    "**NOTE** that tis is a rare case where Jeffreys prior is a proper prior (i.e. it integrates / sums to one)"
   ]
  },
  {
   "cell_type": "code",
   "execution_count": null,
   "metadata": {},
   "outputs": [],
   "source": []
  }
 ],
 "metadata": {
  "kernelspec": {
   "display_name": "Python 3",
   "language": "python",
   "name": "python3"
  },
  "language_info": {
   "codemirror_mode": {
    "name": "ipython",
    "version": 3
   },
   "file_extension": ".py",
   "mimetype": "text/x-python",
   "name": "python",
   "nbconvert_exporter": "python",
   "pygments_lexer": "ipython3",
   "version": "3.6.5"
  }
 },
 "nbformat": 4,
 "nbformat_minor": 2
}
