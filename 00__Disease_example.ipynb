{
 "cells": [
  {
   "cell_type": "code",
   "execution_count": 1,
   "metadata": {},
   "outputs": [],
   "source": [
    "import numpy as np"
   ]
  },
  {
   "cell_type": "markdown",
   "metadata": {},
   "source": [
    "# Disease example\n",
    "\n",
    "This notebook presents a classic Bayesian reasoning example on medical testing. The example described in this notebook is based on an example in [**Judea Pearl's**](https://twitter.com/yudapearl) \"The Book of Why\" (2018)."
   ]
  },
  {
   "cell_type": "markdown",
   "metadata": {},
   "source": [
    "## Description\n",
    "\n",
    "A forty-year-old person gets a test result indicating that she might has a disease $D$.\n",
    "\n",
    "What is the chance that the person is actually sick?\n"
   ]
  },
  {
   "cell_type": "markdown",
   "metadata": {},
   "source": [
    "## Data\n",
    "\n",
    "* Test sensitivity - $P(T=1|D=1) = .73$\n",
    "* Test false positive rate - $P(T=1|D=0) = .12$\n",
    "* Disease frequency in population - $P(D=1) = \\frac{1}{700}$\n"
   ]
  },
  {
   "cell_type": "markdown",
   "metadata": {},
   "source": [
    "## Model\n",
    "\n",
    "According to the [Bayes' rule](https://en.wikipedia.org/wiki/Bayes%27_theorem):\n",
    "\n",
    "$$\\Large P(Y|X) = \\frac{P(X|Y)P(Y)}{P(X)}$$\n",
    "\n",
    "In our exapmle:\n",
    "\n",
    "$$\\large P(D=1|T=1) = \\frac{P(T=1|D=1)P(D=1)}{P(T=1|D=1)P(D=1)+P(T=1|D=0)P(D=0)}$$"
   ]
  },
  {
   "cell_type": "code",
   "execution_count": 8,
   "metadata": {},
   "outputs": [],
   "source": [
    "def get_bayesian_proba(p_x_y, p_x_not_y, p_y):\n",
    "    return (p_x_y * p_y) / ((p_x_y * p_y) + (p_x_not_y * (1 - p_y)))"
   ]
  },
  {
   "cell_type": "code",
   "execution_count": 11,
   "metadata": {},
   "outputs": [],
   "source": [
    "# Define variables\n",
    "p_t1d1 = .73\n",
    "p_t1d0 = .12\n",
    "p_d1 = 1/700"
   ]
  },
  {
   "cell_type": "code",
   "execution_count": 13,
   "metadata": {},
   "outputs": [],
   "source": [
    "result = get_bayesian_proba(p_t1d1, p_t1d0, p_d1)"
   ]
  },
  {
   "cell_type": "code",
   "execution_count": 15,
   "metadata": {},
   "outputs": [
    {
     "name": "stdout",
     "output_type": "stream",
     "text": [
      "The probability that the person is actually sick is 0.86%\n"
     ]
    }
   ],
   "source": [
    "print(f'The probability that the person is actually sick is {result * 100:.02f}%')"
   ]
  }
 ],
 "metadata": {
  "kernelspec": {
   "display_name": "Python 3",
   "language": "python",
   "name": "python3"
  },
  "language_info": {
   "codemirror_mode": {
    "name": "ipython",
    "version": 3
   },
   "file_extension": ".py",
   "mimetype": "text/x-python",
   "name": "python",
   "nbconvert_exporter": "python",
   "pygments_lexer": "ipython3",
   "version": "3.6.5"
  }
 },
 "nbformat": 4,
 "nbformat_minor": 4
}
