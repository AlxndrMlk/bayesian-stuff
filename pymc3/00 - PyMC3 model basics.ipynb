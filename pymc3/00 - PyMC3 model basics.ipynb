{
 "cells": [
  {
   "cell_type": "code",
   "execution_count": 1,
   "id": "1bcd6295",
   "metadata": {},
   "outputs": [
    {
     "name": "stderr",
     "output_type": "stream",
     "text": [
      "WARNING (theano.configdefaults): g++ not available, if using conda: `conda install m2w64-toolchain`\n",
      "WARNING (theano.configdefaults): g++ not detected ! Theano will be unable to execute optimized C-implementations (for both CPU and GPU) and will default to Python implementations. Performance will be severely degraded. To remove this warning, set Theano flags cxx to an empty string.\n",
      "WARNING (theano.tensor.blas): Using NumPy C-API based implementation for BLAS functions.\n"
     ]
    }
   ],
   "source": [
    "import numpy as np\n",
    "from scipy import stats\n",
    "\n",
    "import pymc3 as pm\n",
    "\n",
    "import arviz as az\n",
    "import matplotlib.pyplot as plt\n",
    "plt.style.use('fivethirtyeight')"
   ]
  },
  {
   "cell_type": "markdown",
   "id": "7306302b",
   "metadata": {},
   "source": [
    "## Data"
   ]
  },
  {
   "cell_type": "code",
   "execution_count": 2,
   "id": "9ad08b20",
   "metadata": {},
   "outputs": [],
   "source": [
    "data = stats.bernoulli(.7).rvs(100)"
   ]
  },
  {
   "cell_type": "markdown",
   "id": "a4259618",
   "metadata": {},
   "source": [
    "## Prior"
   ]
  },
  {
   "cell_type": "code",
   "execution_count": 3,
   "id": "0bcf22fa",
   "metadata": {},
   "outputs": [
    {
     "data": {
      "image/png": "[encoded data removed]",
      "text/plain": [
       "<Figure size 432x288 with 1 Axes>"
      ]
     },
     "metadata": {},
     "output_type": "display_data"
    }
   ],
   "source": [
    "# Prior\n",
    "prior = stats.beta(a=1, b=1)\n",
    "\n",
    "# Plot prior\n",
    "x = np.arange(0, 1.01, .01)\n",
    "prior_pdf = prior.pdf(x)\n",
    "\n",
    "plt.plot(x, prior_pdf)\n",
    "plt.xlabel('$X$')\n",
    "plt.ylabel('$PDF(X)$')\n",
    "plt.title('$PDF$ of $Beta(1, 1)$ prior')\n",
    "plt.show()"
   ]
  },
  {
   "cell_type": "code",
   "execution_count": 4,
   "id": "0ef585da",
   "metadata": {},
   "outputs": [
    {
     "name": "stderr",
     "output_type": "stream",
     "text": [
      "Auto-assigning NUTS sampler...\n",
      "Initializing NUTS using jitter+adapt_diag...\n",
      "Multiprocess sampling (4 chains in 4 jobs)\n",
      "NUTS: [theta]\n"
     ]
    },
    {
     "data": {
      "text/html": [
       "\n",
       "    <div>\n",
       "        <style>\n",
       "            /* Turns off some styling */\n",
       "            progress {\n",
       "                /* gets rid of default border in Firefox and Opera. */\n",
       "                border: none;\n",
       "                /* Needs to be in here for Safari polyfill so background images work as expected. */\n",
       "                background-size: auto;\n",
       "            }\n",
       "            .progress-bar-interrupted, .progress-bar-interrupted::-webkit-progress-bar {\n",
       "                background: #F44336;\n",
       "            }\n",
       "        </style>\n",
       "      <progress value='8000' class='' max='8000' style='width:300px; height:20px; vertical-align: middle;'></progress>\n",
       "      100.00% [8000/8000 00:32<00:00 Sampling 4 chains, 0 divergences]\n",
       "    </div>\n",
       "    "
      ],
      "text/plain": [
       "<IPython.core.display.HTML object>"
      ]
     },
     "metadata": {},
     "output_type": "display_data"
    },
    {
     "name": "stderr",
     "output_type": "stream",
     "text": [
      "Sampling 4 chains for 1_000 tune and 1_000 draw iterations (4_000 + 4_000 draws total) took 47 seconds.\n"
     ]
    }
   ],
   "source": [
    "# Instantiate PyMC3 model\n",
    "with pm.Model() as model:\n",
    "    \n",
    "    # Specify the prior over an unknown parameter\n",
    "    theta = pm.Beta('theta', alpha=1, beta=1)\n",
    "    \n",
    "    # Specify the likelihood and condition on observed data\n",
    "    y_obs = pm.Binomial('y_obs', n=1, p=theta, observed=data)\n",
    "    \n",
    "    # Sample from the posterior\n",
    "    inference_data = pm.sample(1000, return_inferencedata=True)"
   ]
  },
  {
   "cell_type": "code",
   "execution_count": 5,
   "id": "c4385041",
   "metadata": {},
   "outputs": [
    {
     "data": {
      "image/svg+xml": [
       "<?xml version=\"1.0\" encoding=\"UTF-8\" standalone=\"no\"?>\r\n",
       "<!DOCTYPE svg PUBLIC \"-//W3C//DTD SVG 1.1//EN\"\r\n",
       " \"http://www.w3.org/Graphics/SVG/1.1/DTD/svg11.dtd\">\r\n",
       "<!-- Generated by graphviz version 2.38.0 (20140413.2041)\r\n",
       " -->\r\n",
       "<!-- Title: %3 Pages: 1 -->\r\n",
       "<svg width=\"132pt\" height=\"233pt\"\r\n",
       " viewBox=\"0.00 0.00 132.00 232.91\" xmlns=\"http://www.w3.org/2000/svg\" xmlns:xlink=\"http://www.w3.org/1999/xlink\">\r\n",
       "<g id=\"graph0\" class=\"graph\" transform=\"scale(1 1) rotate(0) translate(4 228.907)\">\r\n",
       "<title>%3</title>\r\n",
       "<polygon fill=\"white\" stroke=\"none\" points=\"-4,4 -4,-228.907 128,-228.907 128,4 -4,4\"/>\r\n",
       "<g id=\"clust1\" class=\"cluster\"><title>cluster100</title>\r\n",
       "<path fill=\"none\" stroke=\"black\" d=\"M20,-8C20,-8 104,-8 104,-8 110,-8 116,-14 116,-20 116,-20 116,-109.953 116,-109.953 116,-115.953 110,-121.953 104,-121.953 104,-121.953 20,-121.953 20,-121.953 14,-121.953 8,-115.953 8,-109.953 8,-109.953 8,-20 8,-20 8,-14 14,-8 20,-8\"/>\r\n",
       "<text text-anchor=\"middle\" x=\"97.5\" y=\"-15.8\" font-family=\"Times New Roman,serif\" font-size=\"14.00\">100</text>\r\n",
       "</g>\r\n",
       "<!-- theta -->\r\n",
       "<g id=\"node1\" class=\"node\"><title>theta</title>\r\n",
       "<ellipse fill=\"none\" stroke=\"black\" cx=\"62\" cy=\"-187.43\" rx=\"30.3115\" ry=\"37.4533\"/>\r\n",
       "<text text-anchor=\"middle\" x=\"62\" y=\"-198.73\" font-family=\"Times New Roman,serif\" font-size=\"14.00\">theta</text>\r\n",
       "<text text-anchor=\"middle\" x=\"62\" y=\"-183.73\" font-family=\"Times New Roman,serif\" font-size=\"14.00\">~</text>\r\n",
       "<text text-anchor=\"middle\" x=\"62\" y=\"-168.73\" font-family=\"Times New Roman,serif\" font-size=\"14.00\">Beta</text>\r\n",
       "</g>\r\n",
       "<!-- y_obs -->\r\n",
       "<g id=\"node2\" class=\"node\"><title>y_obs</title>\r\n",
       "<ellipse fill=\"lightgrey\" stroke=\"black\" cx=\"62\" cy=\"-76.4767\" rx=\"45.9239\" ry=\"37.4533\"/>\r\n",
       "<text text-anchor=\"middle\" x=\"62\" y=\"-87.7767\" font-family=\"Times New Roman,serif\" font-size=\"14.00\">y_obs</text>\r\n",
       "<text text-anchor=\"middle\" x=\"62\" y=\"-72.7767\" font-family=\"Times New Roman,serif\" font-size=\"14.00\">~</text>\r\n",
       "<text text-anchor=\"middle\" x=\"62\" y=\"-57.7767\" font-family=\"Times New Roman,serif\" font-size=\"14.00\">Binomial</text>\r\n",
       "</g>\r\n",
       "<!-- theta&#45;&gt;y_obs -->\r\n",
       "<g id=\"edge1\" class=\"edge\"><title>theta&#45;&gt;y_obs</title>\r\n",
       "<path fill=\"none\" stroke=\"black\" d=\"M62,-149.847C62,-141.672 62,-132.893 62,-124.366\"/>\r\n",
       "<polygon fill=\"black\" stroke=\"black\" points=\"65.5001,-124.149 62,-114.149 58.5001,-124.149 65.5001,-124.149\"/>\r\n",
       "</g>\r\n",
       "</g>\r\n",
       "</svg>\r\n"
      ],
      "text/plain": [
       "<graphviz.dot.Digraph at 0x1a315ecc3a0>"
      ]
     },
     "execution_count": 5,
     "metadata": {},
     "output_type": "execute_result"
    }
   ],
   "source": [
    "# Visualoze the model\n",
    "pm.model_to_graphviz(model)"
   ]
  },
  {
   "cell_type": "code",
   "execution_count": 6,
   "id": "763e23ac",
   "metadata": {},
   "outputs": [
    {
     "name": "stderr",
     "output_type": "stream",
     "text": [
      "C:\\Users\\aleks\\anaconda3\\envs\\tfp-pymc3\\lib\\site-packages\\pymc3\\sampling.py:1689: UserWarning: samples parameter is smaller than nchains times ndraws, some draws and/or chains may not be represented in the returned posterior predictive sample\n",
      "  warnings.warn(\n"
     ]
    },
    {
     "data": {
      "text/html": [
       "\n",
       "    <div>\n",
       "        <style>\n",
       "            /* Turns off some styling */\n",
       "            progress {\n",
       "                /* gets rid of default border in Firefox and Opera. */\n",
       "                border: none;\n",
       "                /* Needs to be in here for Safari polyfill so background images work as expected. */\n",
       "                background-size: auto;\n",
       "            }\n",
       "            .progress-bar-interrupted, .progress-bar-interrupted::-webkit-progress-bar {\n",
       "                background: #F44336;\n",
       "            }\n",
       "        </style>\n",
       "      <progress value='1000' class='' max='1000' style='width:300px; height:20px; vertical-align: middle;'></progress>\n",
       "      100.00% [1000/1000 00:00<00:00]\n",
       "    </div>\n",
       "    "
      ],
      "text/plain": [
       "<IPython.core.display.HTML object>"
      ]
     },
     "metadata": {},
     "output_type": "display_data"
    }
   ],
   "source": [
    "# Sample predictive distributions\n",
    "pred_distrs = (\n",
    "    pm.sample_prior_predictive(1000, model)['y_obs'],\n",
    "    pm.sample_posterior_predictive(inference_data, 1000, model)['y_obs']\n",
    ")"
   ]
  },
  {
   "cell_type": "code",
   "execution_count": 7,
   "id": "0eb92044",
   "metadata": {},
   "outputs": [
    {
     "data": {
      "image/png": "[encoded data removed]",
      "text/plain": [
       "<Figure size 432x288 with 1 Axes>"
      ]
     },
     "metadata": {},
     "output_type": "display_data"
    }
   ],
   "source": [
    "plt.hist(pred_distrs[1].mean(axis=1), bins=20)\n",
    "plt.show()"
   ]
  }
 ],
 "metadata": {
  "kernelspec": {
   "display_name": "Python [conda env:tfp-pymc3]",
   "language": "python",
   "name": "conda-env-tfp-pymc3-py"
  },
  "language_info": {
   "codemirror_mode": {
    "name": "ipython",
    "version": 3
   },
   "file_extension": ".py",
   "mimetype": "text/x-python",
   "name": "python",
   "nbconvert_exporter": "python",
   "pygments_lexer": "ipython3",
   "version": "3.8.12"
  }
 },
 "nbformat": 4,
 "nbformat_minor": 5
}
