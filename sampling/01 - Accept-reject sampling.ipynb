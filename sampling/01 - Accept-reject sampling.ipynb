{
 "cells": [
  {
   "cell_type": "code",
   "execution_count": 1,
   "id": "89303718",
   "metadata": {},
   "outputs": [],
   "source": [
    "import numpy as np\n",
    "from scipy import stats\n",
    "\n",
    "import matplotlib.pyplot as plt\n",
    "plt.style.use('fivethirtyeight')"
   ]
  },
  {
   "cell_type": "markdown",
   "id": "9d6e2ec1",
   "metadata": {},
   "source": [
    "# Acceptance-rejection sampling\n",
    "\n",
    "\n",
    "## Rationale\n",
    "\n",
    "\n",
    "[**Accept-reject sampling**](https://en.wikipedia.org/wiki/Rejection_sampling) allows to take samples from any unnormalized density $D_0$ and normalize them using another known density $D_1$.\n",
    "\n",
    "\n",
    "A (unnormalized) $PDF$ of the target distribution has to be known.\n"
   ]
  },
  {
   "cell_type": "markdown",
   "id": "e222b59d",
   "metadata": {},
   "source": [
    "## Code\n",
    "\n",
    "Let's see how to apply this in Python. "
   ]
  },
  {
   "cell_type": "code",
   "execution_count": 251,
   "id": "d59447c9",
   "metadata": {},
   "outputs": [],
   "source": [
    "# Define params\n",
    "SAMPLE_SIZE = 100000\n",
    "N_BINS = np.sqrt(SAMPLE_SIZE).astype('int') // 2"
   ]
  },
  {
   "cell_type": "markdown",
   "id": "f7c4c56f",
   "metadata": {},
   "source": [
    "Let's define and visualize our target distribution $p(x)$:"
   ]
  },
  {
   "cell_type": "code",
   "execution_count": 252,
   "id": "9767a359",
   "metadata": {},
   "outputs": [],
   "source": [
    "target_pdf = stats.norm(0, 1).pdf"
   ]
  },
  {
   "cell_type": "code",
   "execution_count": 253,
   "id": "0c828ed4",
   "metadata": {},
   "outputs": [
    {
     "data": {
      "image/png": "[encoded data removed]",
      "text/plain": [
       "<Figure size 432x288 with 1 Axes>"
      ]
     },
     "metadata": {},
     "output_type": "display_data"
    }
   ],
   "source": [
    "x = np.linspace(-10, 10, SAMPLE_SIZE)\n",
    "plt.plot(x, target_pdf(x))\n",
    "plt.title('Target distribution')\n",
    "plt.show()"
   ]
  },
  {
   "cell_type": "markdown",
   "id": "9253539d",
   "metadata": {},
   "source": [
    "First, let's define the support of the target distribution."
   ]
  },
  {
   "cell_type": "code",
   "execution_count": 254,
   "id": "048a3069",
   "metadata": {},
   "outputs": [
    {
     "data": {
      "text/plain": [
       "array([1.47364613e-196, 1.47364613e-196])"
      ]
     },
     "execution_count": 254,
     "metadata": {},
     "output_type": "execute_result"
    }
   ],
   "source": [
    "target_pdf(np.array([-30, 30]))"
   ]
  },
  {
   "cell_type": "markdown",
   "id": "433a45d0",
   "metadata": {},
   "source": [
    "We see that our target $PDF$ for values $-30$ and $30$ is virtually $0$.\n",
    "\n",
    "We'll assume that this is the **finite support** of our **target**."
   ]
  },
  {
   "cell_type": "code",
   "execution_count": 255,
   "id": "5e439580",
   "metadata": {},
   "outputs": [],
   "source": [
    "support = 30"
   ]
  },
  {
   "cell_type": "markdown",
   "id": "7e42c110",
   "metadata": {},
   "source": [
    "Let's define our known proposal distribution $q(x)$.\n",
    "\n",
    "It has to have a property that:\n",
    "\n",
    "$$\\large p(x) \\leq M q(x)$$\n",
    "\n",
    "where $M$ is some constant."
   ]
  },
  {
   "cell_type": "markdown",
   "id": "b1bb46d3",
   "metadata": {},
   "source": [
    "Let's initialize a uniform as our $q(x)$. \n",
    "\n",
    "Note that in `scipy.stats.uniform()` the following parametrization is used:\n",
    "\n",
    "*In the standard form, the distribution is uniform on ``[0, 1]``. Using\n",
    "the parameters ``loc`` and ``scale``, one obtains the uniform distribution\n",
    "on ``[loc, loc + scale]``.*\n",
    "\n",
    "Source: SciPy documentation"
   ]
  },
  {
   "cell_type": "code",
   "execution_count": 256,
   "id": "d3571717",
   "metadata": {},
   "outputs": [],
   "source": [
    "q_x = stats.uniform(-support, 2*support)"
   ]
  },
  {
   "cell_type": "markdown",
   "id": "c73cf6bd",
   "metadata": {},
   "source": [
    "An important thing in **accept-reject** sampliong is that the **proposal distribution** must *envelope* the **target distribution**. \n",
    "\n",
    "Intuitively, the histogram of the **target** should be within the histogram of the **proposal**.\n",
    "\n",
    "To make it happen, we need to scale $q(x)$. We'll use $M$ to achieve this."
   ]
  },
  {
   "cell_type": "code",
   "execution_count": 257,
   "id": "c4388dff",
   "metadata": {},
   "outputs": [
    {
     "data": {
      "text/plain": [
       "24.0"
      ]
     },
     "execution_count": 257,
     "metadata": {},
     "output_type": "execute_result"
    }
   ],
   "source": [
    "# Compute M\n",
    "m = np.ceil(np.max(target_pdf(x)) / np.max(q_x.pdf(x)))\n",
    "\n",
    "m"
   ]
  },
  {
   "cell_type": "markdown",
   "id": "8aa80ef7",
   "metadata": {},
   "source": [
    "Now, we'll draw samples from our proposal distribution $q(x)$:"
   ]
  },
  {
   "cell_type": "code",
   "execution_count": 258,
   "id": "4dd5ace6",
   "metadata": {},
   "outputs": [],
   "source": [
    "qs = q_x.rvs(SAMPLE_SIZE)"
   ]
  },
  {
   "cell_type": "markdown",
   "id": "b5dc676c",
   "metadata": {},
   "source": [
    "Next, we're going to draw samples from $Uniform(0, 1)$:"
   ]
  },
  {
   "cell_type": "code",
   "execution_count": 259,
   "id": "4d27f82c",
   "metadata": {},
   "outputs": [],
   "source": [
    "unif = np.random.uniform(0, 1, SAMPLE_SIZE)"
   ]
  },
  {
   "cell_type": "markdown",
   "id": "9d9f16ec",
   "metadata": {},
   "source": [
    "Finally we'll accept samples from $q(x)$ if:\n",
    "\n",
    "$$ \\large Unif_i \\leq \\frac{p(x_i)}{Mq(x_i)}$$"
   ]
  },
  {
   "cell_type": "code",
   "execution_count": 260,
   "id": "4da09427",
   "metadata": {},
   "outputs": [],
   "source": [
    "transformed = np.where(unif <= target_pdf(x) / (m * q_x.pdf(x)))[0].shape"
   ]
  },
  {
   "cell_type": "code",
   "execution_count": 276,
   "id": "e6856e63",
   "metadata": {},
   "outputs": [
    {
     "data": {
      "image/png": "[encoded data removed]",
      "text/plain": [
       "<Figure size 576x360 with 1 Axes>"
      ]
     },
     "metadata": {},
     "output_type": "display_data"
    }
   ],
   "source": [
    "plt.figure(figsize=(8, 5))\n",
    "plt.hist(transformed_to_normal, label='Transformed to target', bins=N_BINS, density=True, alpha=.5)\n",
    "plt.plot(x, target_pdf(x), label='$p(x)$')\n",
    "plt.plot(x, m * q_x.pdf(x), label='$q(x)$', alpha=.5)\n",
    "plt.legend(fontsize=12)\n",
    "plt.xlabel('$x$')\n",
    "plt.ylabel('$(scaled) \\ PDF(x)$')\n",
    "plt.title('Final distribution')\n",
    "plt.show()"
   ]
  },
  {
   "cell_type": "code",
   "execution_count": null,
   "id": "ed5a8827",
   "metadata": {},
   "outputs": [],
   "source": []
  }
 ],
 "metadata": {
  "kernelspec": {
   "display_name": "Python 3 (ipykernel)",
   "language": "python",
   "name": "python3"
  },
  "language_info": {
   "codemirror_mode": {
    "name": "ipython",
    "version": 3
   },
   "file_extension": ".py",
   "mimetype": "text/x-python",
   "name": "python",
   "nbconvert_exporter": "python",
   "pygments_lexer": "ipython3",
   "version": "3.9.7"
  }
 },
 "nbformat": 4,
 "nbformat_minor": 5
}
