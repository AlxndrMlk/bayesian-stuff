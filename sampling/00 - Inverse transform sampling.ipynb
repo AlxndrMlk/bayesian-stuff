{
 "cells": [
  {
   "cell_type": "code",
   "execution_count": 1,
   "id": "89303718",
   "metadata": {},
   "outputs": [],
   "source": [
    "import numpy as np\n",
    "from scipy import stats\n",
    "\n",
    "import matplotlib.pyplot as plt\n",
    "plt.style.use('fivethirtyeight')"
   ]
  },
  {
   "cell_type": "markdown",
   "id": "9d6e2ec1",
   "metadata": {},
   "source": [
    "# Inverse Transform sampling\n",
    "\n",
    "\n",
    "## Rationale\n",
    "\n",
    "\n",
    "**Inverse transform sampling** allows to transform samples from uniform distribution $U$ to any other distribution $D$, given the $CDF$ of $D$.\n",
    "\n",
    "How can we do it?\n",
    "\n",
    "Let's take\n",
    "\n",
    "$$\\large T(U) = X$$\n",
    "\n",
    "where:\n",
    "\n",
    "* $U$ is a uniform random variable\n",
    "* $T$ is some kind of a transformation\n",
    "* $X$ is the target random variable (let's use **exponential** distribution as an example)\n",
    "\n",
    "\n",
    "Now, we said that to perform **inverse transformation sampling**, we need a $CDF$.\n",
    "\n",
    "By definition $CDF$ (we'll call it $F_X(x)$ here) is given by: \n",
    "\n",
    "$$\\large F_X(x) \\triangleq P(X \\leq x)$$\n",
    "\n",
    "We said before that to get $X$, we'll apply certain transformation $T$ to a uniform random variable.\n",
    "\n",
    "We can then say, that:\n",
    "\n",
    "$$\\large P(X \\leq x) = P(T(U) \\leq x)$$\n",
    "\n",
    "Now, let's apply an ibnverse of $T$ to the both sides of the inequality:\n",
    "\n",
    "$$\\large = P(U \\leq T^{-1}(x))$$\n",
    "\n",
    "Uniform distribution has a nice property that it's $CDF$ at any given point $x$ is equal to the value of $x$.\n",
    "\n",
    "Therefore, we can say that:\n",
    "\n",
    "$$\\large = T^{-1}(x)$$\n",
    "\n",
    "and conclude that:\n",
    "\n",
    "$$\\large F_X(x) = T^{-1}(x)$$\n",
    "\n",
    "\n",
    "## Conclusion\n",
    "\n",
    "We demonstrated how to sample from any density $D$ using a sample from a uniform distribution and an inverse of $CDF$ od $D$. \n",
    "\n",
    "Now, let's apply it in practice!"
   ]
  },
  {
   "cell_type": "markdown",
   "id": "e222b59d",
   "metadata": {},
   "source": [
    "## Code\n",
    "\n",
    "Let's see how to apply this in Python. \n",
    "\n",
    "We'll use **exponential distribution** as an example."
   ]
  },
  {
   "cell_type": "code",
   "execution_count": 3,
   "id": "352539b1",
   "metadata": {},
   "outputs": [],
   "source": [
    "# Define params\n",
    "SAMPLE_SIZE = 100000\n",
    "N_BINS = np.sqrt(SAMPLE_SIZE).astype('int') // 2\n",
    "LAMBDA = 8 "
   ]
  },
  {
   "cell_type": "markdown",
   "id": "fc442400",
   "metadata": {},
   "source": [
    "Let's instantiate distributions.\n",
    "\n",
    "We will instantiate an exponential distribution expicitly for comparison purposes.\n",
    "\n",
    "___________\n",
    "\n",
    "Note that **`scipy.stats`** has a slightly **different parametrization** of exponential than the populuar $\\lambda$ parametrization. \n",
    "\n",
    "In the [documentation](https://docs.scipy.org/doc/scipy/reference/generated/scipy.stats.expon.html), we read:\n",
    "\n",
    "*A common parameterization for expon is in terms of the rate parameter lambda, such that pdf = lambda * exp(-lambda * x). This parameterization corresponds to using scale = 1 / lambda.*\n",
    "\n",
    "____________\n",
    "\n",
    "Therefore, we're going to use **`scale=1/LAMBDA`** to parametrize our test **exponential distribution**. "
   ]
  },
  {
   "cell_type": "code",
   "execution_count": 9,
   "id": "cb21840b",
   "metadata": {},
   "outputs": [],
   "source": [
    "# Instantiate U(0, 1)\n",
    "unif = stats.uniform(0, 1)\n",
    "\n",
    "# Instantiate Exp(8) for comparison purposes\n",
    "exp = stats.expon(loc=0, scale=1/LAMBDA)"
   ]
  },
  {
   "cell_type": "markdown",
   "id": "0a6786a8",
   "metadata": {},
   "source": [
    "Now, we need to define the inverse transformation $T^{-1}(x)$ that will allow us to translate between uniform and exponential samples.\n",
    "\n",
    "The $CDF$ of exponential distribution is defined as:\n",
    "\n",
    "$$\\large\n",
    "\\begin{equation}\n",
    "  F_X(x) \\triangleq\n",
    "    \\begin{cases}\n",
    "      1 - e^{-\\lambda x} \\ \\text{  for  }\\ x \\geq 0\\\\\n",
    "      0 \\ \\ \\ \\ \\ \\ \\ \\ \\ \\ \\ \\ \\ \\  \\text{for }\\ x<0 \\\\\n",
    "    \\end{cases}       \n",
    "\\end{equation}\n",
    "$$\n",
    "\n",
    "Let's take the inverse of this function (solve for $x$):\n",
    "\n",
    "$$\\large y = 1 - e^{-\\lambda x}$$\n",
    "\n",
    "* subtract $1$ from both sides:\n",
    "\n",
    "$$\\large 1 - y = - e^{-\\lambda x}$$\n",
    "\n",
    "* take $ln$ of both sides:\n",
    "\n",
    "$$\\large ln(1 - y) = \\lambda x$$\n",
    "\n",
    "* divide both sides by $\\lambda$:\n",
    "\n",
    "$$\\large x = \\frac{ln(1 - y)}{\\lambda}$$\n",
    "\n",
    "<br>\n",
    "\n",
    "**Et voilà!** 🎉🎉🎉 \n",
    "\n",
    "We've got it! 💪🏼\n",
    "\n",
    "<br>\n",
    "\n",
    "Let's translate it to Python code:"
   ]
  },
  {
   "cell_type": "code",
   "execution_count": 10,
   "id": "8f96cc8b",
   "metadata": {},
   "outputs": [],
   "source": [
    "# Define \n",
    "def transform_to_exp(x, lmbd):\n",
    "    \n",
    "    \"\"\"Transoforms a uniform sample into an exponential sample\"\"\"\n",
    "    \n",
    "    return -np.log(1 - x) / lmbd"
   ]
  },
  {
   "cell_type": "markdown",
   "id": "41d2d3a2",
   "metadata": {},
   "source": [
    "Take samples:"
   ]
  },
  {
   "cell_type": "code",
   "execution_count": 14,
   "id": "b62fcf6a",
   "metadata": {},
   "outputs": [],
   "source": [
    "# Sample from uniform\n",
    "sample_unif = unif.rvs(SAMPLE_SIZE)\n",
    "\n",
    "# Sample from the true exponential\n",
    "sample_exp = exp.rvs(SAMPLE_SIZE)\n",
    "\n",
    "# Transform U -> Exp\n",
    "sample_transform = transform_to_exp(sample_unif, LAMBDA)"
   ]
  },
  {
   "cell_type": "markdown",
   "id": "8ddee2e8",
   "metadata": {},
   "source": [
    "A brief sanity check:"
   ]
  },
  {
   "cell_type": "code",
   "execution_count": 24,
   "id": "f6fb22de",
   "metadata": {},
   "outputs": [
    {
     "data": {
      "image/png": "[encoded data removed]",
      "text/plain": [
       "<Figure size 432x288 with 1 Axes>"
      ]
     },
     "metadata": {},
     "output_type": "display_data"
    }
   ],
   "source": [
    "# Sanity check -> U(0, 1)\n",
    "plt.hist(sample_unif, bins=N_BINS, density=True)\n",
    "plt.title('Histogarm of $U(0, 1)$')\n",
    "plt.ylabel('$p(x)$')\n",
    "plt.xlabel('$x$')\n",
    "plt.show()"
   ]
  },
  {
   "cell_type": "markdown",
   "id": "3de5202d",
   "metadata": {},
   "source": [
    "..and let's compare the resutls:"
   ]
  },
  {
   "cell_type": "code",
   "execution_count": 21,
   "id": "0f728802",
   "metadata": {},
   "outputs": [
    {
     "data": {
      "image/png": "[encoded data removed]",
      "text/plain": [
       "<Figure size 432x288 with 1 Axes>"
      ]
     },
     "metadata": {},
     "output_type": "display_data"
    }
   ],
   "source": [
    "plt.hist(sample_exp, bins=N_BINS, density=True, alpha=.5, label='Exponential')\n",
    "plt.hist(sample_transform, bins=N_BINS, density=True, alpha=.5, label='$T(U)$')\n",
    "plt.legend()\n",
    "plt.title('Histogram of exponential and transformed distributions', fontsize=12)\n",
    "plt.ylabel('$p(x)$')\n",
    "plt.xlabel('$x$')\n",
    "plt.show()"
   ]
  },
  {
   "cell_type": "markdown",
   "id": "7b357183",
   "metadata": {},
   "source": [
    "Beautiful! It worked as expected 🎉🎉🎉"
   ]
  }
 ],
 "metadata": {
  "kernelspec": {
   "display_name": "Python 3 (ipykernel)",
   "language": "python",
   "name": "python3"
  },
  "language_info": {
   "codemirror_mode": {
    "name": "ipython",
    "version": 3
   },
   "file_extension": ".py",
   "mimetype": "text/x-python",
   "name": "python",
   "nbconvert_exporter": "python",
   "pygments_lexer": "ipython3",
   "version": "3.9.7"
  }
 },
 "nbformat": 4,
 "nbformat_minor": 5
}
